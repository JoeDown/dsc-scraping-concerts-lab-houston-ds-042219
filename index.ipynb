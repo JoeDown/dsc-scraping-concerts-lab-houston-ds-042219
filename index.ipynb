{
 "cells": [
  {
   "cell_type": "markdown",
   "metadata": {},
   "source": [
    "# Scraping Concerts - Lab\n",
    "\n",
    "## Introduction\n",
    "\n",
    "Now that you've seen how to scrape a simple website, it's time to again practice those skills on a full-fledged site!\n",
    "In this lab, you'll practice your scraping skills on a music website: https://www.residentadvisor.net.\n",
    "## Objectives\n",
    "\n",
    "You will be able to:\n",
    "* Scrape events from a website\n",
    "* Follow links to those events to retrieve further information\n",
    "* Clean and store scraped data"
   ]
  },
  {
   "cell_type": "markdown",
   "metadata": {},
   "source": [
    "## View the Website\n",
    "\n",
    "For this lab, you'll be scraping the https://www.residentadvisor.net website. Start by navigating to the events page [here](https://www.residentadvisor.net/events) in your browser.\n",
    "\n",
    "<img src=\"images/ra.png\">"
   ]
  },
  {
   "cell_type": "code",
   "execution_count": 2,
   "metadata": {},
   "outputs": [],
   "source": [
    "#Load the https://www.residentadvisor.net/events page in your browser."
   ]
  },
  {
   "cell_type": "markdown",
   "metadata": {},
   "source": [
    "## Open the Inspect Element Feature\n",
    "\n",
    "Next, open the inspect element feature from your web browser in order to preview the underlying HTML associated with the page."
   ]
  },
  {
   "cell_type": "code",
   "execution_count": 3,
   "metadata": {},
   "outputs": [],
   "source": [
    "#Open the inspect element feature in your browser"
   ]
  },
  {
   "cell_type": "code",
   "execution_count": 4,
   "metadata": {},
   "outputs": [],
   "source": [
    "from bs4 import BeautifulSoup\n",
    "import requests"
   ]
  },
  {
   "cell_type": "code",
   "execution_count": null,
   "metadata": {},
   "outputs": [],
   "source": [
    "\n",
    "\n"
   ]
  },
  {
   "cell_type": "markdown",
   "metadata": {},
   "source": [
    "## Write a Function to Scrape all of the Events on the Given Page Events Page\n",
    "\n",
    "The function should return a Pandas DataFrame with columns for the Event_Name, Venue, Event_Date and Number_of_Attendees."
   ]
  },
  {
   "cell_type": "code",
   "execution_count": null,
   "metadata": {},
   "outputs": [],
   "source": []
  },
  {
   "cell_type": "code",
   "execution_count": 5,
   "metadata": {},
   "outputs": [],
   "source": [
    "html_page = requests.get('https://www.residentadvisor.net/events/us/houston') \n",
    "soup = BeautifulSoup(html_page.content, 'html.parser')"
   ]
  },
  {
   "cell_type": "code",
   "execution_count": null,
   "metadata": {},
   "outputs": [],
   "source": []
  },
  {
   "cell_type": "code",
   "execution_count": 6,
   "metadata": {
    "scrolled": true
   },
   "outputs": [
    {
     "data": {
      "text/plain": [
       "<div class=\"fl col4\" id=\"event-listing\">\n",
       "<ul class=\"list\" id=\"items\">\n",
       "<li><p class=\"eventDate date\"><a href=\"/events.aspx?ai=63&amp;v=day&amp;mn=5&amp;yr=2019&amp;dy=17\"><span>Fri, 17 May 2019 /</span></a></p></li><li class=\"\"><article class=\"event-item clearfix\" itemscope=\"\" itemtype=\"http://data-vocabulary.org/Event\"><span style=\"display:none;\"><time datetime=\"2019-05-17T00:00\" itemprop=\"startDate\">2019-05-17T00:00</time></span><a href=\"/events/1238945\"><img height=\"76\" src=\"/images/events/flyer/2019/5/us-0517-1238945-list.jpg\" width=\"152\"/></a><div class=\"bbox\"><h1 class=\"event-title\" itemprop=\"summary\"><a href=\"/events/1238945\" itemprop=\"url\" title=\"Event details of CAPTAIN HOOK [3HR SET] HTX DEBUT\">CAPTAIN HOOK [3HR SET] HTX DEBUT</a> <span>at <a href=\"/club.aspx?id=61706\">Ayva Center</a></span></h1><div class=\"grey event-lineup\">CAPTAIN HOOK *EXCLUSIVE HTX DEBUT*, Iboga Records, ELECTRIC GANESH ORDER, Kaos Krew Records, Dementia Society Records, SNA MATIX, MIKE WINSTON, ARSON B2B EL NINO, PKLE B2B WARBEAR B2B EDRIC, BEAVED COONE, TONY BANGZ, NORMUL, DJ JEFRE</div><p class=\"attending\"><span>2</span> Attending</p></div></article></li><li><p class=\"eventDate date\"><a href=\"/events.aspx?ai=63&amp;v=day&amp;mn=5&amp;yr=2019&amp;dy=18\"><span>Sat, 18 May 2019 /</span></a></p></li><li class=\"\"><article class=\"event-item clearfix\" itemscope=\"\" itemtype=\"http://data-vocabulary.org/Event\"><span style=\"display:none;\"><time datetime=\"2019-05-18T00:00\" itemprop=\"startDate\">2019-05-18T00:00</time></span><a href=\"/events/1258036\"><img height=\"76\" src=\"/images/events/flyer/dj/delanosmith-list.jpg\" width=\"152\"/></a><div class=\"bbox\"><h1 class=\"event-title\" itemprop=\"summary\"><a href=\"/events/1258036\" itemprop=\"url\" title=\"Event details of Official Movement Pre-Party // Fractal 4 presents: Delano Smith\">Official Movement Pre-Party // Fractal 4 presents: Delano Smith</a> <span>at <a href=\"/club.aspx?id=164420\">Bauhaus</a></span></h1><div class=\"grey event-lineup\">Delano Smith, Rola Assi, Dan Bain b2b Ross Kelly</div><p class=\"attending\"><span>3</span> Attending</p></div></article></li><li class=\"\"><article class=\"event-item clearfix\" itemscope=\"\" itemtype=\"http://data-vocabulary.org/Event\"><span style=\"display:none;\"><time datetime=\"2019-05-18T00:00\" itemprop=\"startDate\">2019-05-18T00:00</time></span><a href=\"/events/1235506\"><img height=\"76\" src=\"/images/events/flyer/2019/5/us-0518-1235506-list.jpg\" width=\"152\"/></a><div class=\"bbox\"><h1 class=\"event-title\" itemprop=\"summary\"><a href=\"/events/1235506\" itemprop=\"url\" title=\"Event details of Globaleq &amp; Cabina Baja present DJ Marisol Grajales\">Globaleq &amp; Cabina Baja present DJ Marisol Grajales</a> <span>at <span class=\"grey\" style=\"display:inline;\">Gravity Midtown</span></span></h1><div class=\"grey event-lineup\">Dj Marisol Grajales, More TBA.</div><p class=\"attending\"><span>2</span> Attending</p></div></article></li>\n",
       "</ul>\n",
       "</div>"
      ]
     },
     "execution_count": 6,
     "metadata": {},
     "output_type": "execute_result"
    }
   ],
   "source": [
    "event_listing = soup.find('div', class_=\"fl col4\")\n",
    "event_listing #Previewing is optional but can help you verify you are selecting what you think you are"
   ]
  },
  {
   "cell_type": "code",
   "execution_count": 15,
   "metadata": {},
   "outputs": [
    {
     "data": {
      "text/plain": [
       "str"
      ]
     },
     "execution_count": 15,
     "metadata": {},
     "output_type": "execute_result"
    }
   ],
   "source": [
    "event_listing.findAll('time')[0].get(\"datetime\")"
   ]
  },
  {
   "cell_type": "code",
   "execution_count": 8,
   "metadata": {},
   "outputs": [
    {
     "data": {
      "text/plain": [
       "'CAPTAIN HOOK'"
      ]
     },
     "execution_count": 8,
     "metadata": {},
     "output_type": "execute_result"
    }
   ],
   "source": [
    "event_titles = event_listing.findAll('h1') #Make a selectionen\n",
    "title_split = event_titles[0].parent.text.split(\"[\") #Preview the first entry itt\n",
    "title = title_split[0]\n",
    "title = title [:-1]\n",
    "title"
   ]
  },
  {
   "cell_type": "code",
   "execution_count": 9,
   "metadata": {},
   "outputs": [
    {
     "data": {
      "text/plain": [
       "'2'"
      ]
     },
     "execution_count": 9,
     "metadata": {},
     "output_type": "execute_result"
    }
   ],
   "source": [
    "attending_search = event_titles[2].nextSibling.nextSibling.findAll('span')\n",
    "l2 = str(attending_search).split(\">\")\n",
    "l2[1].split(\"<\")[0]\n"
   ]
  },
  {
   "cell_type": "code",
   "execution_count": 10,
   "metadata": {},
   "outputs": [
    {
     "data": {
      "text/plain": [
       "<div class=\"bbox\"><h1 class=\"event-title\" itemprop=\"summary\"><a href=\"/events/1238945\" itemprop=\"url\" title=\"Event details of CAPTAIN HOOK [3HR SET] HTX DEBUT\">CAPTAIN HOOK [3HR SET] HTX DEBUT</a> <span>at <a href=\"/club.aspx?id=61706\">Ayva Center</a></span></h1><div class=\"grey event-lineup\">CAPTAIN HOOK *EXCLUSIVE HTX DEBUT*, Iboga Records, ELECTRIC GANESH ORDER, Kaos Krew Records, Dementia Society Records, SNA MATIX, MIKE WINSTON, ARSON B2B EL NINO, PKLE B2B WARBEAR B2B EDRIC, BEAVED COONE, TONY BANGZ, NORMUL, DJ JEFRE</div><p class=\"attending\"><span>2</span> Attending</p></div>"
      ]
     },
     "execution_count": 10,
     "metadata": {},
     "output_type": "execute_result"
    }
   ],
   "source": [
    "event_titles[0].parent\n"
   ]
  },
  {
   "cell_type": "code",
   "execution_count": 11,
   "metadata": {},
   "outputs": [
    {
     "data": {
      "text/plain": [
       "'Ayva Center'"
      ]
     },
     "execution_count": 11,
     "metadata": {},
     "output_type": "execute_result"
    }
   ],
   "source": [
    "parse_list = []\n",
    "for tag in event_titles:\n",
    "    parse_list.append(tag.text)\n",
    "\n",
    "venue_title = parse_list[0].split(\"at\")[1]\n",
    "venue_title = venue_title[1:]\n",
    "venue_title"
   ]
  },
  {
   "cell_type": "code",
   "execution_count": 12,
   "metadata": {
    "scrolled": true
   },
   "outputs": [
    {
     "data": {
      "text/plain": [
       "<div class=\"fl col2\" style=\"padding-top: 88px;\">\n",
       "<div class=\"pr8 sticky\">\n",
       "<section id=\"calendar\">\n",
       "<div class=\"h-align\">\n",
       "<h1 class=\"heading\">Calendar</h1>\n",
       "</div>\n",
       "<div id=\"calendar-inner\">\n",
       "<select id=\"ddlCalendarMonth\" name=\"ctl00$ctl00$cphContent$_contentmain$ucCalendar$ddlCalendarMonth\" style=\"width:104px;\">\n",
       "<option value=\"12\">December</option>\n",
       "<option value=\"11\">November</option>\n",
       "<option value=\"10\">October</option>\n",
       "<option value=\"9\">September</option>\n",
       "<option value=\"8\">August</option>\n",
       "<option value=\"7\">July</option>\n",
       "<option value=\"6\">June</option>\n",
       "<option selected=\"selected\" value=\"5\">May</option>\n",
       "<option value=\"4\">April</option>\n",
       "<option value=\"3\">March</option>\n",
       "<option value=\"2\">February</option>\n",
       "<option value=\"1\">January</option>\n",
       "</select>\n",
       "<select id=\"ddlCalendarYear\" name=\"ctl00$ctl00$cphContent$_contentmain$ucCalendar$ddlCalendarYear\">\n",
       "<option selected=\"selected\" value=\"2019\">2019</option>\n",
       "<option value=\"2018\">2018</option>\n",
       "<option value=\"2017\">2017</option>\n",
       "<option value=\"2016\">2016</option>\n",
       "<option value=\"2015\">2015</option>\n",
       "<option value=\"2014\">2014</option>\n",
       "<option value=\"2013\">2013</option>\n",
       "<option value=\"2012\">2012</option>\n",
       "<option value=\"2011\">2011</option>\n",
       "<option value=\"2010\">2010</option>\n",
       "<option value=\"2009\">2009</option>\n",
       "<option value=\"2008\">2008</option>\n",
       "<option value=\"2007\">2007</option>\n",
       "<option value=\"2006\">2006</option>\n",
       "<option value=\"2005\">2005</option>\n",
       "<option value=\"2004\">2004</option>\n",
       "</select>\n",
       "<select id=\"ddlCalendarType\" name=\"ctl00$ctl00$cphContent$_contentmain$ucCalendar$ddlCalendarType\" style=\"width:104px;\">\n",
       "<option value=\"day\">By day</option>\n",
       "<option selected=\"selected\" value=\"week\">By week</option>\n",
       "<option value=\"month\">By month</option>\n",
       "</select>\n",
       "<input id=\"hfCalendarDayOfWeek\" name=\"ctl00$ctl00$cphContent$_contentmain$ucCalendar$hfCalendarDayOfWeek\" type=\"hidden\" value=\"15\"/>\n",
       "<table><tr><th>Sun</th><th>Mon</th><th>Tue</th><th>Wed</th><th>Thu</th><th>Fri</th><th>Sat</th></tr><tr><td><a class=\"day-off\" href=\"/events/us/houston/week/2019-04-28\">28</a></td><td><a class=\"day-off\" href=\"/events/us/houston/week/2019-04-29\">29</a></td><td><a class=\"day-off\" href=\"/events/us/houston/week/2019-04-30\">30</a></td><td><a href=\"/events/us/houston/week/2019-05-01\">1</a></td><td><a href=\"/events/us/houston/week/2019-05-02\">2</a></td><td><a href=\"/events/us/houston/week/2019-05-03\">3</a></td><td><a href=\"/events/us/houston/week/2019-05-04\">4</a></td></tr><tr><td><a href=\"/events/us/houston/week/2019-05-05\">5</a></td><td><a href=\"/events/us/houston/week/2019-05-06\">6</a></td><td><a href=\"/events/us/houston/week/2019-05-07\">7</a></td><td><a href=\"/events/us/houston/week/2019-05-08\">8</a></td><td><a href=\"/events/us/houston/week/2019-05-09\">9</a></td><td><a href=\"/events/us/houston/week/2019-05-10\">10</a></td><td><a href=\"/events/us/houston/week/2019-05-11\">11</a></td></tr><tr><td><a href=\"/events/us/houston/week/2019-05-12\">12</a></td><td><a href=\"/events/us/houston/week/2019-05-13\">13</a></td><td><a href=\"/events/us/houston/week/2019-05-14\">14</a></td><td><span class=\"day-current\">15</span></td><td><a href=\"/events/us/houston/week/2019-05-16\">16</a></td><td><a href=\"/events/us/houston/week/2019-05-17\">17</a></td><td><a href=\"/events/us/houston/week/2019-05-18\">18</a></td></tr><tr><td><a href=\"/events/us/houston/week/2019-05-19\">19</a></td><td><a href=\"/events/us/houston/week/2019-05-20\">20</a></td><td><a href=\"/events/us/houston/week/2019-05-21\">21</a></td><td><a href=\"/events/us/houston/week/2019-05-22\">22</a></td><td><a href=\"/events/us/houston/week/2019-05-23\">23</a></td><td><a href=\"/events/us/houston/week/2019-05-24\">24</a></td><td><a href=\"/events/us/houston/week/2019-05-25\">25</a></td></tr><tr><td><a href=\"/events/us/houston/week/2019-05-26\">26</a></td><td><a href=\"/events/us/houston/week/2019-05-27\">27</a></td><td><a href=\"/events/us/houston/week/2019-05-28\">28</a></td><td><a href=\"/events/us/houston/week/2019-05-29\">29</a></td><td><a href=\"/events/us/houston/week/2019-05-30\">30</a></td><td><a href=\"/events/us/houston/week/2019-05-31\">31</a></td><td><a class=\"day-off\" href=\"/events/us/houston/week/2019-06-01\">1</a></td></tr></table>\n",
       "</div>\n",
       "<script type=\"text/javascript\">\n",
       "\t\t$(\"#ddlCalendarMonth, #ddlCalendarYear, #ddlCalendarType\").change(function () {\n",
       "            var aSearch = location.search.indexOf(\"&\") > 0\n",
       "                ? location.search.split('&')\n",
       "                : \"\";\n",
       "\n",
       "\t\t\tvar sQueryString;\n",
       "\n",
       "            var month = $('#ddlCalendarMonth').val().length === 2\n",
       "                ? $('#ddlCalendarMonth').val()\n",
       "                : \"0\" + $('#ddlCalendarMonth').val();\n",
       "\n",
       "            var day = $('#hfCalendarDayOfWeek').val().length === 2\n",
       "                ? $('#hfCalendarDayOfWeek').val()\n",
       "                : \"0\" + $('#hfCalendarDayOfWeek').val();\n",
       "\n",
       "            var area = $('#liArea span').text().replace(/[^A-Z0-9]/ig, '').toLowerCase() === 'all'\n",
       "                ? \"\"\n",
       "                : $('#liArea span').text().replace(/[^A-Z0-9]/ig, '').toLowerCase() + \"/\";\n",
       "\n",
       "            var country = area === ''\n",
       "                ? $('#country-name').val()\n",
       "                : $('#liCountry span').text()\n",
       "\n",
       "\t\t\tsQueryString = \"/events/\"\n",
       "                + country.replace(/[^A-Z0-9]/ig, '').toLowerCase() + \"/\"\n",
       "                + area\n",
       "                + $('#ddlCalendarType').val() + \"/\"\n",
       "\t\t\t\t+ $('#ddlCalendarYear').val() + \"-\"\n",
       "                + month + \"-\"\n",
       "\t\t\t\t+ day;\n",
       "\n",
       "\t\t\tlocation.href = sQueryString;\n",
       "\t\t});\n",
       "\t</script>\n",
       "</section>\n",
       "<div class=\"banner\">\n",
       "<div id=\"pnlMPU\">\n",
       "<div class=\"ad\" id=\"div-gpt-ad-1452773484957-7\" style=\"width: 300px; min-height: 250px; padding-bottom: 10px;\"></div>\n",
       "</div>\n",
       "</div>\n",
       "</div>\n",
       "</div>"
      ]
     },
     "execution_count": 12,
     "metadata": {},
     "output_type": "execute_result"
    }
   ],
   "source": [
    "event_container = event_listing.nextSibling.nextSibling\n",
    "event_container"
   ]
  },
  {
   "cell_type": "code",
   "execution_count": 13,
   "metadata": {},
   "outputs": [
    {
     "ename": "SyntaxError",
     "evalue": "invalid syntax (<ipython-input-13-c909677e8398>, line 1)",
     "output_type": "error",
     "traceback": [
      "\u001b[0;36m  File \u001b[0;32m\"<ipython-input-13-c909677e8398>\"\u001b[0;36m, line \u001b[0;32m1\u001b[0m\n\u001b[0;31m    <div id=\"event-listing\" class=\"fl col4\">\u001b[0m\n\u001b[0m    ^\u001b[0m\n\u001b[0;31mSyntaxError\u001b[0m\u001b[0;31m:\u001b[0m invalid syntax\n"
     ]
    }
   ],
   "source": [
    "<div id=\"event-listing\" class=\"fl col4\">\n",
    "<ul id=\"items\" class=\"list\">\n",
    "<li><p class=\"eventDate date\"><a href=\"/events.aspx?ai=63&amp;v=day&amp;mn=5&amp;yr=2019&amp;dy=17\"><span>Fri, 17 May 2019 /</span></a></p></li><li class=\"\"><article class=\"event-item  clearfix \" itemscope=\"\" itemtype=\"http://data-vocabulary.org/Event\"><span style=\"display:none;\"><time itemprop=\"startDate\" datetime=\"2019-05-17T00:00\">2019-05-17T00:00</time></span><a href=\"/events/1238945\"><img src=\"/images/events/flyer/2019/5/us-0517-1238945-list.jpg\" width=\"152\" height=\"76\"></a><div class=\"bbox\"><h1 class=\"event-title\" itemprop=\"summary\"><a href=\"/events/1238945\" itemprop=\"url\" title=\"Event details of CAPTAIN HOOK [3HR SET] HTX DEBUT\">CAPTAIN HOOK [3HR SET] HTX DEBUT</a> <span>at <a href=\"/club.aspx?id=61706\">Ayva Center</a></span></h1><div class=\"grey event-lineup\">CAPTAIN HOOK *EXCLUSIVE HTX DEBUT*, Iboga Records, ELECTRIC GANESH ORDER, Kaos Krew Records, Dementia Society Records, SNA MATIX, MIKE WINSTON, ARSON B2B EL NINO, PKLE B2B WARBEAR B2B EDRIC, BEAVED COONE, TONY BANGZ, NORMUL, DJ JEFRE</div><p class=\"attending\"><span>2</span> Attending</p></div></article></li><li><p class=\"eventDate date\"><a href=\"/events.aspx?ai=63&amp;v=day&amp;mn=5&amp;yr=2019&amp;dy=18\"><span>Sat, 18 May 2019 /</span></a></p></li><li class=\"\"><article class=\"event-item  clearfix \" itemscope=\"\" itemtype=\"http://data-vocabulary.org/Event\"><span style=\"display:none;\"><time itemprop=\"startDate\" datetime=\"2019-05-18T00:00\">2019-05-18T00:00</time></span><a href=\"/events/1258036\"><img src=\"/images/events/flyer/dj/delanosmith-list.jpg\" width=\"152\" height=\"76\"></a><div class=\"bbox\"><h1 class=\"event-title\" itemprop=\"summary\"><a href=\"/events/1258036\" itemprop=\"url\" title=\"Event details of Official Movement Pre-Party // Fractal 4 presents: Delano Smith\">Official Movement Pre-Party // Fractal 4 presents: Delano Smith</a> <span>at <a href=\"/club.aspx?id=164420\">Bauhaus</a></span></h1><div class=\"grey event-lineup\">Delano Smith, Rola Assi, Dan Bain b2b Ross Kelly</div><p class=\"attending\"><span>3</span> Attending</p></div></article></li><li class=\"\"><article class=\"event-item  clearfix \" itemscope=\"\" itemtype=\"http://data-vocabulary.org/Event\"><span style=\"display:none;\"><time itemprop=\"startDate\" datetime=\"2019-05-18T00:00\">2019-05-18T00:00</time></span><a href=\"/events/1235506\"><img src=\"/images/events/flyer/2019/5/us-0518-1235506-list.jpg\" width=\"152\" height=\"76\"></a><div class=\"bbox\"><h1 class=\"event-title\" itemprop=\"summary\"><a href=\"/events/1235506\" itemprop=\"url\" title=\"Event details of Globaleq &amp; Cabina Baja present DJ Marisol Grajales\">Globaleq &amp; Cabina Baja present DJ Marisol Grajales</a> <span>at <span class=\"grey\" style=\"display:inline;\">Gravity Midtown</span></span></h1><div class=\"grey event-lineup\">Dj Marisol Grajales, More TBA.</div><p class=\"attending\"><span>2</span> Attending</p></div></article></li>\n",
    "</ul>\n",
    "</div>"
   ]
  },
  {
   "cell_type": "code",
   "execution_count": 14,
   "metadata": {},
   "outputs": [
    {
     "ename": "NameError",
     "evalue": "name 'pd' is not defined",
     "output_type": "error",
     "traceback": [
      "\u001b[0;31m\u001b[0m",
      "\u001b[0;31mNameError\u001b[0mTraceback (most recent call last)",
      "\u001b[0;32m<ipython-input-14-b4681224e0e7>\u001b[0m in \u001b[0;36m<module>\u001b[0;34m()\u001b[0m\n\u001b[0;32m----> 1\u001b[0;31m \u001b[0mdf3\u001b[0m \u001b[0;34m=\u001b[0m \u001b[0mpd\u001b[0m\u001b[0;34m.\u001b[0m\u001b[0mDataFrame\u001b[0m\u001b[0;34m\u001b[0m\u001b[0m\n\u001b[0m",
      "\u001b[0;31mNameError\u001b[0m: name 'pd' is not defined"
     ]
    }
   ],
   "source": [
    "df3 = pd.DataFrame"
   ]
  },
  {
   "cell_type": "code",
   "execution_count": null,
   "metadata": {
    "scrolled": true
   },
   "outputs": [],
   "source": [
    "df3.columns=['Column1','Column2','Column3']"
   ]
  },
  {
   "cell_type": "code",
   "execution_count": null,
   "metadata": {},
   "outputs": [],
   "source": [
    "soup.prettify"
   ]
  },
  {
   "cell_type": "code",
   "execution_count": null,
   "metadata": {},
   "outputs": [],
   "source": [
    "def scrape_events(events_page_url):\n",
    "    html_page = requests.get(events_page_url) \n",
    "    soup = BeautifulSoup(html_page.content, 'html.parser')html_page = requests.get(events_page_url) \n",
    "    soup = BeautifulSoup(html_page.content, 'html.parser')\n",
    "    \n",
    "    #first findAll gets the general section of the website\n",
    "    event_titles = event_listing.findAll('h1')\n",
    "    \n",
    "    #First we will figure out the number of events\n",
    "    parse_list = []\n",
    "    for tag in event_titles:\n",
    "        parse_list.append(tag.text)\n",
    "        \n",
    "    #Here we set some things up\n",
    "    num_events = len(parse_list)\n",
    "    venue_title_list = []\n",
    "    title_list = []\n",
    "    date_list = []\n",
    "    num_attending_list = []\n",
    "    \n",
    "    for index in range(num_events):\n",
    "        #First we find the venue\n",
    "        venue_title = parse_list[index].split(\"at\")[1]\n",
    "        venue_title = venue_title[1:]\n",
    "        venue_title_list.append(venue_title)\n",
    "        #Now we will find the Title\n",
    "        title_split = event_titles[index].parent.text.split(\"[\") #Preview the first entry itt\n",
    "        title = title_split[0]\n",
    "        title = title [:-1]\n",
    "        title_list.append(title)\n",
    "        #Now find number attending\n",
    "        attending_search = event_titles[index].nextSibling.nextSibling.findAll('span')\n",
    "        attending_list = str(attending_search).split(\">\")\n",
    "        #this is my first attempt at sraping - so these index values are just hard coded\n",
    "        num_attending = attending_list[1].split(\"<\")[0]\n",
    "        num_attending_list.append(int(num_attending))\n",
    "        #This grabs the date:\n",
    "        date_list.append(event_listing.findAll('time')[index].get(\"datetime\"))\n",
    "        \n",
    "    for i in range(3):\n",
    "        print(type(title_list[i]))\n",
    "        print(type(venue_title_list[i]))\n",
    "        print(type(date_list[i]))\n",
    "        print(type(num_attending_list[i]))\n",
    "            \n",
    "    print(' ')\n",
    "    print(f'The title_list is: {title_list}\\n')\n",
    "    print(f'The venue_title_list is: {venue_title_list}\\n')\n",
    "    print(f'The date_list is {date_list}\\n ')\n",
    "    print(f'The num_attending_list is: {num_attending_list}\\n')\n",
    "        \n",
    "        \n",
    "    Assign the Dataframe\n",
    "    df = pd.DataFrame({\"Event_Name\": title_list, \"Venue\": venue_title_list, \n",
    "                       \"Event_Date\": date_list, \"Number_of_Attendees\": num_attending_list})\n",
    "    \n",
    "    print(df.head())\n",
    "    \n",
    "    return df\n",
    "\n",
    "scraped_df = scrape_events('https://www.residentadvisor.net/events/us/houston')"
   ]
  },
  {
   "cell_type": "code",
   "execution_count": null,
   "metadata": {},
   "outputs": [],
   "source": [
    "import pandas as pd\n",
    "df = pd.DataFrame({'fgfg': [1,2,3], 'dsfds': [3,4,5]})\n",
    "print(df.head())"
   ]
  },
  {
   "cell_type": "code",
   "execution_count": null,
   "metadata": {},
   "outputs": [],
   "source": [
    "scraped_df.shape"
   ]
  },
  {
   "cell_type": "code",
   "execution_count": null,
   "metadata": {
    "scrolled": true
   },
   "outputs": [],
   "source": [
    "type(scraped_df)"
   ]
  },
  {
   "cell_type": "code",
   "execution_count": null,
   "metadata": {},
   "outputs": [],
   "source": [
    "scraped_df.head()\n",
    "\n"
   ]
  },
  {
   "cell_type": "code",
   "execution_count": null,
   "metadata": {},
   "outputs": [],
   "source": [
    "dir(scraped_df)"
   ]
  },
  {
   "cell_type": "markdown",
   "metadata": {},
   "source": [
    "## Write a Function to Retrieve the URL for the Next Page"
   ]
  },
  {
   "cell_type": "code",
   "execution_count": 27,
   "metadata": {},
   "outputs": [
    {
     "data": {
      "text/plain": [
       "'https://www.residentadvisor.net/events/us/houston/events/us/houston/week/2019-05-22'"
      ]
     },
     "execution_count": 27,
     "metadata": {},
     "output_type": "execute_result"
    }
   ],
   "source": [
    "def next_page(url):\n",
    "    html_page = requests.get(url) \n",
    "    soup = BeautifulSoup(html_page.content, 'html.parser')\n",
    "    url_add = soup.select('.but.arrow-right.right')[0].select('a')[0]['href']\n",
    "    return url + url_add\n",
    "\n",
    "\n",
    "\n",
    "next_page('https://www.residentadvisor.net/events/us/houston')"
   ]
  },
  {
   "cell_type": "markdown",
   "metadata": {},
   "source": [
    "## Scrape the Next 1000 Events for Your Area\n",
    "\n",
    "Display the data sorted by the number of attendees. If there is a tie for the number attending, sort by event date."
   ]
  },
  {
   "cell_type": "code",
   "execution_count": null,
   "metadata": {},
   "outputs": [],
   "source": [
    "#Your code here"
   ]
  },
  {
   "cell_type": "markdown",
   "metadata": {},
   "source": [
    "## Summary \n",
    "\n",
    "Congratulations! In this lab, you successfully scraped a website for concert event information!"
   ]
  }
 ],
 "metadata": {
  "kernelspec": {
   "display_name": "Python 3",
   "language": "python",
   "name": "python3"
  },
  "language_info": {
   "codemirror_mode": {
    "name": "ipython",
    "version": 3
   },
   "file_extension": ".py",
   "mimetype": "text/x-python",
   "name": "python",
   "nbconvert_exporter": "python",
   "pygments_lexer": "ipython3",
   "version": "3.6.6"
  }
 },
 "nbformat": 4,
 "nbformat_minor": 2
}
